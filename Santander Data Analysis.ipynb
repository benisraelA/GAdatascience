{
 "cells": [
  {
   "cell_type": "markdown",
   "metadata": {
    "slideshow": {
     "slide_type": "slide"
    }
   },
   "source": [
    "# SANTANDER VALUE PREDICTION\n",
    "\n",
    "DATSG08 FINAL PROJECT |\n",
    "_Author: Ben Israel_"
   ]
  },
  {
   "cell_type": "markdown",
   "metadata": {},
   "source": [
    "## Project Overview"
   ]
  },
  {
   "cell_type": "markdown",
   "metadata": {},
   "source": [
    "According to Epsilon research, 80% of customers are more likely to do business with you if you provide personalized service. Banking is no exception.\n",
    "\n",
    "The digitalization of everyday lives means that customers expect services to be delivered in a personalized and timely manner… and often before they´ve even realized they need the service. In their 3rd Kaggle competition, Santander Group aims to go a step beyond recognizing that there is a need to provide a customer a financial service and intends to determine the amount or value of the customer's transaction. This means anticipating customer needs in a more concrete, but also simple and personal way. With so many choices for financial services, this need is greater now than ever before.\n",
    "\n",
    "The task here is to help Santander identify the value of transactions for each potential customer. This is a first step that Santander needs to nail in order to personalize their services at scale."
   ]
  },
  {
   "cell_type": "markdown",
   "metadata": {},
   "source": [
    "#### Data Description"
   ]
  },
  {
   "cell_type": "markdown",
   "metadata": {},
   "source": [
    "You are provided with an anonymized dataset containing numeric feature variables, the numeric target column, and a string ID column.\n",
    "\n",
    "The task is to predict the value of target column in the test set.\n",
    "\n",
    "File descriptions\n",
    "\n",
    "1. train.csv - the training set\n",
    "2. test.csv - the test set \n",
    "3. sample_submission.csv - a sample submission file in the correct format"
   ]
  },
  {
   "cell_type": "markdown",
   "metadata": {},
   "source": [
    "## 1. Data Exploration"
   ]
  },
  {
   "cell_type": "code",
   "execution_count": 561,
   "metadata": {},
   "outputs": [],
   "source": [
    "import os\n",
    "import numpy as np\n",
    "import pandas as pd\n",
    "import matplotlib.pyplot as plt\n",
    "import seaborn as sns\n",
    "%matplotlib inline\n",
    "plt.style.use('ggplot')\n",
    "\n",
    "import lightgbm as lgb\n",
    "\n",
    "from sklearn import model_selection\n",
    "from sklearn.model_selection import train_test_split\n",
    "from sklearn.preprocessing import RobustScaler\n",
    "from sklearn.decomposition import PCA\n",
    "from mpl_toolkits.mplot3d import Axes3D\n",
    "\n",
    "from sklearn.ensemble import GradientBoostingRegressor\n",
    "from sklearn.ensemble import RandomForestRegressor\n",
    "from sklearn.tree import DecisionTreeClassifier\n",
    "from sklearn.metrics import mean_squared_error\n",
    "from sklearn.metrics import roc_auc_score, precision_recall_curve, roc_curve, average_precision_score\n",
    "from sklearn.model_selection import KFold, train_test_split"
   ]
  },
  {
   "cell_type": "code",
   "execution_count": 562,
   "metadata": {},
   "outputs": [],
   "source": [
    "train_df = pd.read_csv('../Santander/train.csv')\n",
    "test_df = pd.read_csv('../Santander/test.csv')\n",
    "target_df = train_df['target']"
   ]
  },
  {
   "cell_type": "code",
   "execution_count": 563,
   "metadata": {},
   "outputs": [
    {
     "data": {
      "text/html": [
       "<div>\n",
       "<style scoped>\n",
       "    .dataframe tbody tr th:only-of-type {\n",
       "        vertical-align: middle;\n",
       "    }\n",
       "\n",
       "    .dataframe tbody tr th {\n",
       "        vertical-align: top;\n",
       "    }\n",
       "\n",
       "    .dataframe thead th {\n",
       "        text-align: right;\n",
       "    }\n",
       "</style>\n",
       "<table border=\"1\" class=\"dataframe\">\n",
       "  <thead>\n",
       "    <tr style=\"text-align: right;\">\n",
       "      <th></th>\n",
       "      <th>ID</th>\n",
       "      <th>target</th>\n",
       "      <th>00000001</th>\n",
       "      <th>00000002</th>\n",
       "      <th>00000003</th>\n",
       "      <th>00000004</th>\n",
       "      <th>00000005</th>\n",
       "      <th>00000006</th>\n",
       "      <th>00000007</th>\n",
       "      <th>00000008</th>\n",
       "      <th>...</th>\n",
       "      <th>00004982</th>\n",
       "      <th>00004983</th>\n",
       "      <th>00004984</th>\n",
       "      <th>00004985</th>\n",
       "      <th>00004986</th>\n",
       "      <th>00004987</th>\n",
       "      <th>00004988</th>\n",
       "      <th>00004989</th>\n",
       "      <th>00004990</th>\n",
       "      <th>00004991</th>\n",
       "    </tr>\n",
       "  </thead>\n",
       "  <tbody>\n",
       "    <tr>\n",
       "      <th>0</th>\n",
       "      <td>000d6aaf2</td>\n",
       "      <td>38000000.0</td>\n",
       "      <td>0.0</td>\n",
       "      <td>0</td>\n",
       "      <td>0.0</td>\n",
       "      <td>0</td>\n",
       "      <td>0</td>\n",
       "      <td>0</td>\n",
       "      <td>0</td>\n",
       "      <td>0</td>\n",
       "      <td>...</td>\n",
       "      <td>0.0</td>\n",
       "      <td>0.0</td>\n",
       "      <td>0.0</td>\n",
       "      <td>0</td>\n",
       "      <td>0</td>\n",
       "      <td>0</td>\n",
       "      <td>0</td>\n",
       "      <td>0</td>\n",
       "      <td>0</td>\n",
       "      <td>0</td>\n",
       "    </tr>\n",
       "    <tr>\n",
       "      <th>1</th>\n",
       "      <td>000fbd867</td>\n",
       "      <td>600000.0</td>\n",
       "      <td>0.0</td>\n",
       "      <td>0</td>\n",
       "      <td>0.0</td>\n",
       "      <td>0</td>\n",
       "      <td>0</td>\n",
       "      <td>0</td>\n",
       "      <td>0</td>\n",
       "      <td>0</td>\n",
       "      <td>...</td>\n",
       "      <td>0.0</td>\n",
       "      <td>0.0</td>\n",
       "      <td>0.0</td>\n",
       "      <td>0</td>\n",
       "      <td>0</td>\n",
       "      <td>0</td>\n",
       "      <td>0</td>\n",
       "      <td>0</td>\n",
       "      <td>0</td>\n",
       "      <td>0</td>\n",
       "    </tr>\n",
       "    <tr>\n",
       "      <th>2</th>\n",
       "      <td>0027d6b71</td>\n",
       "      <td>10000000.0</td>\n",
       "      <td>0.0</td>\n",
       "      <td>0</td>\n",
       "      <td>0.0</td>\n",
       "      <td>0</td>\n",
       "      <td>0</td>\n",
       "      <td>0</td>\n",
       "      <td>0</td>\n",
       "      <td>0</td>\n",
       "      <td>...</td>\n",
       "      <td>0.0</td>\n",
       "      <td>0.0</td>\n",
       "      <td>0.0</td>\n",
       "      <td>0</td>\n",
       "      <td>0</td>\n",
       "      <td>0</td>\n",
       "      <td>0</td>\n",
       "      <td>0</td>\n",
       "      <td>0</td>\n",
       "      <td>0</td>\n",
       "    </tr>\n",
       "    <tr>\n",
       "      <th>3</th>\n",
       "      <td>0028cbf45</td>\n",
       "      <td>2000000.0</td>\n",
       "      <td>0.0</td>\n",
       "      <td>0</td>\n",
       "      <td>0.0</td>\n",
       "      <td>0</td>\n",
       "      <td>0</td>\n",
       "      <td>0</td>\n",
       "      <td>0</td>\n",
       "      <td>0</td>\n",
       "      <td>...</td>\n",
       "      <td>0.0</td>\n",
       "      <td>0.0</td>\n",
       "      <td>0.0</td>\n",
       "      <td>0</td>\n",
       "      <td>0</td>\n",
       "      <td>0</td>\n",
       "      <td>0</td>\n",
       "      <td>0</td>\n",
       "      <td>0</td>\n",
       "      <td>0</td>\n",
       "    </tr>\n",
       "    <tr>\n",
       "      <th>4</th>\n",
       "      <td>002a68644</td>\n",
       "      <td>14400000.0</td>\n",
       "      <td>0.0</td>\n",
       "      <td>0</td>\n",
       "      <td>0.0</td>\n",
       "      <td>0</td>\n",
       "      <td>0</td>\n",
       "      <td>0</td>\n",
       "      <td>0</td>\n",
       "      <td>0</td>\n",
       "      <td>...</td>\n",
       "      <td>0.0</td>\n",
       "      <td>0.0</td>\n",
       "      <td>0.0</td>\n",
       "      <td>0</td>\n",
       "      <td>0</td>\n",
       "      <td>0</td>\n",
       "      <td>0</td>\n",
       "      <td>0</td>\n",
       "      <td>0</td>\n",
       "      <td>0</td>\n",
       "    </tr>\n",
       "    <tr>\n",
       "      <th>5</th>\n",
       "      <td>002dbeb22</td>\n",
       "      <td>2800000.0</td>\n",
       "      <td>0.0</td>\n",
       "      <td>0</td>\n",
       "      <td>0.0</td>\n",
       "      <td>0</td>\n",
       "      <td>0</td>\n",
       "      <td>0</td>\n",
       "      <td>0</td>\n",
       "      <td>0</td>\n",
       "      <td>...</td>\n",
       "      <td>12000.0</td>\n",
       "      <td>5600000.0</td>\n",
       "      <td>20000000.0</td>\n",
       "      <td>0</td>\n",
       "      <td>0</td>\n",
       "      <td>0</td>\n",
       "      <td>0</td>\n",
       "      <td>0</td>\n",
       "      <td>0</td>\n",
       "      <td>11000</td>\n",
       "    </tr>\n",
       "    <tr>\n",
       "      <th>6</th>\n",
       "      <td>003925ac6</td>\n",
       "      <td>164000.0</td>\n",
       "      <td>0.0</td>\n",
       "      <td>0</td>\n",
       "      <td>0.0</td>\n",
       "      <td>0</td>\n",
       "      <td>0</td>\n",
       "      <td>0</td>\n",
       "      <td>0</td>\n",
       "      <td>0</td>\n",
       "      <td>...</td>\n",
       "      <td>0.0</td>\n",
       "      <td>0.0</td>\n",
       "      <td>0.0</td>\n",
       "      <td>0</td>\n",
       "      <td>0</td>\n",
       "      <td>0</td>\n",
       "      <td>40000</td>\n",
       "      <td>0</td>\n",
       "      <td>0</td>\n",
       "      <td>0</td>\n",
       "    </tr>\n",
       "    <tr>\n",
       "      <th>7</th>\n",
       "      <td>003eb0261</td>\n",
       "      <td>600000.0</td>\n",
       "      <td>0.0</td>\n",
       "      <td>0</td>\n",
       "      <td>0.0</td>\n",
       "      <td>0</td>\n",
       "      <td>0</td>\n",
       "      <td>0</td>\n",
       "      <td>0</td>\n",
       "      <td>0</td>\n",
       "      <td>...</td>\n",
       "      <td>0.0</td>\n",
       "      <td>0.0</td>\n",
       "      <td>0.0</td>\n",
       "      <td>0</td>\n",
       "      <td>0</td>\n",
       "      <td>0</td>\n",
       "      <td>0</td>\n",
       "      <td>0</td>\n",
       "      <td>0</td>\n",
       "      <td>0</td>\n",
       "    </tr>\n",
       "    <tr>\n",
       "      <th>8</th>\n",
       "      <td>004b92275</td>\n",
       "      <td>979000.0</td>\n",
       "      <td>0.0</td>\n",
       "      <td>0</td>\n",
       "      <td>0.0</td>\n",
       "      <td>0</td>\n",
       "      <td>0</td>\n",
       "      <td>0</td>\n",
       "      <td>0</td>\n",
       "      <td>0</td>\n",
       "      <td>...</td>\n",
       "      <td>0.0</td>\n",
       "      <td>0.0</td>\n",
       "      <td>4000000.0</td>\n",
       "      <td>0</td>\n",
       "      <td>0</td>\n",
       "      <td>0</td>\n",
       "      <td>0</td>\n",
       "      <td>0</td>\n",
       "      <td>0</td>\n",
       "      <td>0</td>\n",
       "    </tr>\n",
       "    <tr>\n",
       "      <th>9</th>\n",
       "      <td>0067b4fef</td>\n",
       "      <td>460000.0</td>\n",
       "      <td>0.0</td>\n",
       "      <td>0</td>\n",
       "      <td>0.0</td>\n",
       "      <td>0</td>\n",
       "      <td>0</td>\n",
       "      <td>0</td>\n",
       "      <td>0</td>\n",
       "      <td>0</td>\n",
       "      <td>...</td>\n",
       "      <td>0.0</td>\n",
       "      <td>0.0</td>\n",
       "      <td>0.0</td>\n",
       "      <td>0</td>\n",
       "      <td>0</td>\n",
       "      <td>0</td>\n",
       "      <td>0</td>\n",
       "      <td>0</td>\n",
       "      <td>0</td>\n",
       "      <td>400000</td>\n",
       "    </tr>\n",
       "  </tbody>\n",
       "</table>\n",
       "<p>10 rows × 4993 columns</p>\n",
       "</div>"
      ],
      "text/plain": [
       "          ID      target  00000001  00000002  00000003  00000004  00000005  \\\n",
       "0  000d6aaf2  38000000.0       0.0         0       0.0         0         0   \n",
       "1  000fbd867    600000.0       0.0         0       0.0         0         0   \n",
       "2  0027d6b71  10000000.0       0.0         0       0.0         0         0   \n",
       "3  0028cbf45   2000000.0       0.0         0       0.0         0         0   \n",
       "4  002a68644  14400000.0       0.0         0       0.0         0         0   \n",
       "5  002dbeb22   2800000.0       0.0         0       0.0         0         0   \n",
       "6  003925ac6    164000.0       0.0         0       0.0         0         0   \n",
       "7  003eb0261    600000.0       0.0         0       0.0         0         0   \n",
       "8  004b92275    979000.0       0.0         0       0.0         0         0   \n",
       "9  0067b4fef    460000.0       0.0         0       0.0         0         0   \n",
       "\n",
       "   00000006  00000007  00000008    ...     00004982   00004983    00004984  \\\n",
       "0         0         0         0    ...          0.0        0.0         0.0   \n",
       "1         0         0         0    ...          0.0        0.0         0.0   \n",
       "2         0         0         0    ...          0.0        0.0         0.0   \n",
       "3         0         0         0    ...          0.0        0.0         0.0   \n",
       "4         0         0         0    ...          0.0        0.0         0.0   \n",
       "5         0         0         0    ...      12000.0  5600000.0  20000000.0   \n",
       "6         0         0         0    ...          0.0        0.0         0.0   \n",
       "7         0         0         0    ...          0.0        0.0         0.0   \n",
       "8         0         0         0    ...          0.0        0.0   4000000.0   \n",
       "9         0         0         0    ...          0.0        0.0         0.0   \n",
       "\n",
       "   00004985  00004986  00004987  00004988  00004989  00004990  00004991  \n",
       "0         0         0         0         0         0         0         0  \n",
       "1         0         0         0         0         0         0         0  \n",
       "2         0         0         0         0         0         0         0  \n",
       "3         0         0         0         0         0         0         0  \n",
       "4         0         0         0         0         0         0         0  \n",
       "5         0         0         0         0         0         0     11000  \n",
       "6         0         0         0     40000         0         0         0  \n",
       "7         0         0         0         0         0         0         0  \n",
       "8         0         0         0         0         0         0         0  \n",
       "9         0         0         0         0         0         0    400000  \n",
       "\n",
       "[10 rows x 4993 columns]"
      ]
     },
     "execution_count": 563,
     "metadata": {},
     "output_type": "execute_result"
    }
   ],
   "source": [
    "train_df.head(10)"
   ]
  },
  {
   "cell_type": "code",
   "execution_count": 564,
   "metadata": {},
   "outputs": [
    {
     "name": "stdout",
     "output_type": "stream",
     "text": [
      "The dimension for train_df (rows x cols) is:  (4459, 4993)\n",
      "The dimension for test_df (rows x cols) is:  (49342, 4992)\n",
      "The dimension for target_df (rows x cols) is:  (4459,)\n"
     ]
    }
   ],
   "source": [
    "print(\"The dimension for train_df (rows x cols) is: \", train_df.shape)\n",
    "print(\"The dimension for test_df (rows x cols) is: \", test_df.shape)\n",
    "print(\"The dimension for target_df (rows x cols) is: \", target_df.shape)"
   ]
  },
  {
   "cell_type": "code",
   "execution_count": 565,
   "metadata": {},
   "outputs": [
    {
     "name": "stdout",
     "output_type": "stream",
     "text": [
      "Sum of NAs in Train =  [0]\n",
      "Sum of NAs in Test =  [0]\n",
      "Sum of NAs in Test =  [0]\n"
     ]
    }
   ],
   "source": [
    "print('Sum of NAs in Train = ', train_df.isnull().sum(axis = 0).unique())\n",
    "print('Sum of NAs in Test = ',  test_df.isnull().sum(axis = 0).unique())\n",
    "print('Sum of NAs in Test = ',  test_df.isnull().sum(axis = 0).unique())"
   ]
  },
  {
   "cell_type": "code",
   "execution_count": 566,
   "metadata": {},
   "outputs": [
    {
     "data": {
      "text/plain": [
       "int64      3147\n",
       "float64    1845\n",
       "object        1\n",
       "dtype: int64"
      ]
     },
     "execution_count": 566,
     "metadata": {},
     "output_type": "execute_result"
    }
   ],
   "source": [
    "train_df.dtypes.value_counts()"
   ]
  },
  {
   "cell_type": "code",
   "execution_count": 567,
   "metadata": {},
   "outputs": [
    {
     "data": {
      "text/plain": [
       "count    4.459000e+03\n",
       "mean     5.944923e+06\n",
       "std      8.234312e+06\n",
       "min      3.000000e+04\n",
       "25%      6.000000e+05\n",
       "50%      2.260000e+06\n",
       "75%      8.000000e+06\n",
       "max      4.000000e+07\n",
       "Name: target, dtype: float64"
      ]
     },
     "execution_count": 567,
     "metadata": {},
     "output_type": "execute_result"
    }
   ],
   "source": [
    "target_df.describe()"
   ]
  },
  {
   "cell_type": "code",
   "execution_count": 568,
   "metadata": {},
   "outputs": [
    {
     "data": {
      "text/html": [
       "[(2000000.0, 207), (10000000.0, 199), (20000000.0, 156), (4000000.0, 148), (1000000.0, 129), (400000.0, 115), (200000.0, 113), (5000000.0, 101), (6000000.0, 88), (600000.0, 84), (8000000.0, 65), (3000000.0, 61), (800000.0, 59), (100000.0, 44), (40000.0, 40), (40000000.0, 40), (30000000.0, 39), (500000.0, 39), (1200000.0, 39), (300000.0, 37)]"
      ],
      "text/plain": [
       "[(2000000.0, 207),\n",
       " (10000000.0, 199),\n",
       " (20000000.0, 156),\n",
       " (4000000.0, 148),\n",
       " (1000000.0, 129),\n",
       " (400000.0, 115),\n",
       " (200000.0, 113),\n",
       " (5000000.0, 101),\n",
       " (6000000.0, 88),\n",
       " (600000.0, 84),\n",
       " (8000000.0, 65),\n",
       " (3000000.0, 61),\n",
       " (800000.0, 59),\n",
       " (100000.0, 44),\n",
       " (40000.0, 40),\n",
       " (40000000.0, 40),\n",
       " (30000000.0, 39),\n",
       " (500000.0, 39),\n",
       " (1200000.0, 39),\n",
       " (300000.0, 37)]"
      ]
     },
     "execution_count": 568,
     "metadata": {},
     "output_type": "execute_result"
    }
   ],
   "source": [
    "from collections import Counter\n",
    "cnt = Counter(target_df)\n",
    "cnt.most_common(20)"
   ]
  },
  {
   "cell_type": "code",
   "execution_count": 569,
   "metadata": {
    "scrolled": true
   },
   "outputs": [
    {
     "data": {
      "text/plain": [
       "<matplotlib.axes._subplots.AxesSubplot at 0x1a24f28668>"
      ]
     },
     "execution_count": 569,
     "metadata": {},
     "output_type": "execute_result"
    },
    {
     "data": {
      "image/png": "[encoded data removed]",
      "text/plain": [
       "<Figure size 1080x360 with 1 Axes>"
      ]
     },
     "metadata": {},
     "output_type": "display_data"
    }
   ],
   "source": [
    "train_df['target'].plot(kind='hist', bins=50, figsize=[15,5])"
   ]
  },
  {
   "cell_type": "code",
   "execution_count": 570,
   "metadata": {},
   "outputs": [
    {
     "data": {
      "text/plain": [
       "1413"
      ]
     },
     "execution_count": 570,
     "metadata": {},
     "output_type": "execute_result"
    }
   ],
   "source": [
    "len(train_df['target'].unique())"
   ]
  },
  {
   "cell_type": "markdown",
   "metadata": {},
   "source": [
    "## 2. Data Preparation"
   ]
  },
  {
   "cell_type": "code",
   "execution_count": 571,
   "metadata": {},
   "outputs": [],
   "source": [
    "X_train = train_df.drop([\"ID\", \"target\"], axis=1)\n",
    "y_train = np.log1p(train_df[\"target\"].values)\n",
    "X_test = test_df.drop([\"ID\"], axis=1)"
   ]
  },
  {
   "cell_type": "code",
   "execution_count": 572,
   "metadata": {},
   "outputs": [],
   "source": [
    "colsToRemove = []\n",
    "for col in X_train.columns:\n",
    "    if X_train[col].std() == 0:\n",
    "        colsToRemove.append(col)"
   ]
  },
  {
   "cell_type": "code",
   "execution_count": 573,
   "metadata": {},
   "outputs": [
    {
     "name": "stdout",
     "output_type": "stream",
     "text": [
      "Removed `256` Constant Columns\n",
      "\n"
     ]
    }
   ],
   "source": [
    "X_train.drop(colsToRemove, axis=1, inplace=True)\n",
    "\n",
    "print(\"Removed `{}` Constant Columns\\n\".format(len(colsToRemove)))"
   ]
  },
  {
   "cell_type": "code",
   "execution_count": 574,
   "metadata": {},
   "outputs": [
    {
     "name": "stdout",
     "output_type": "stream",
     "text": [
      "Removed `256` Constant Columns\n",
      "\n"
     ]
    }
   ],
   "source": [
    "X_test.drop(colsToRemove, axis=1, inplace=True)\n",
    "\n",
    "print(\"Removed `{}` Constant Columns\\n\".format(len(colsToRemove)))"
   ]
  },
  {
   "cell_type": "code",
   "execution_count": 575,
   "metadata": {},
   "outputs": [],
   "source": [
    "colsToRemove = []\n",
    "colsScaned = []\n",
    "dupList = {}\n",
    "\n",
    "columns = X_train.columns\n",
    "\n",
    "for i in range(len(columns)-1):\n",
    "    v = X_train[columns[i]].values\n",
    "    dupCols = []\n",
    "    for j in range(i+1,len(columns)):\n",
    "        if np.array_equal(v, X_train[columns[j]].values):\n",
    "            colsToRemove.append(columns[j])\n",
    "            if columns[j] not in colsScaned:\n",
    "                dupCols.append(columns[j]) \n",
    "                colsScaned.append(columns[j])\n",
    "                dupList[columns[i]] = dupCols"
   ]
  },
  {
   "cell_type": "code",
   "execution_count": 576,
   "metadata": {},
   "outputs": [
    {
     "name": "stdout",
     "output_type": "stream",
     "text": [
      "Removed `6` Constant Columns\n",
      "\n"
     ]
    }
   ],
   "source": [
    "X_train.drop(colsToRemove, axis=1, inplace=True)\n",
    "\n",
    "print(\"Removed `{}` Constant Columns\\n\".format(len(colsToRemove)))"
   ]
  },
  {
   "cell_type": "code",
   "execution_count": 577,
   "metadata": {},
   "outputs": [
    {
     "name": "stdout",
     "output_type": "stream",
     "text": [
      "Removed `6` Constant Columns\n",
      "\n"
     ]
    }
   ],
   "source": [
    "X_test.drop(colsToRemove, axis=1, inplace=True)\n",
    "\n",
    "print(\"Removed `{}` Constant Columns\\n\".format(len(colsToRemove)))"
   ]
  },
  {
   "cell_type": "code",
   "execution_count": 578,
   "metadata": {
    "scrolled": true
   },
   "outputs": [
    {
     "name": "stdout",
     "output_type": "stream",
     "text": [
      "The dimension for train_df (rows x cols) is:  (4459, 4730)\n",
      "The dimension for test_df (rows x cols) is:  (49342, 4730)\n"
     ]
    }
   ],
   "source": [
    "print(\"The dimension for train_df (rows x cols) is: \", X_train.shape)\n",
    "print(\"The dimension for test_df (rows x cols) is: \", X_test.shape)"
   ]
  },
  {
   "cell_type": "code",
   "execution_count": 579,
   "metadata": {},
   "outputs": [
    {
     "name": "stdout",
     "output_type": "stream",
     "text": [
      "GradientBoostingRegressor(alpha=0.9, criterion='friedman_mse', init=None,\n",
      "             learning_rate=0.1, loss='ls', max_depth=3, max_features=None,\n",
      "             max_leaf_nodes=None, min_impurity_decrease=0.0,\n",
      "             min_impurity_split=None, min_samples_leaf=1,\n",
      "             min_samples_split=2, min_weight_fraction_leaf=0.0,\n",
      "             n_estimators=100, presort='auto', random_state=42,\n",
      "             subsample=1.0, verbose=0, warm_start=False)\n"
     ]
    }
   ],
   "source": [
    "clf_gb = GradientBoostingRegressor(random_state = 42)\n",
    "clf_gb.fit(X_train, y_train)\n",
    "print(clf_gb)"
   ]
  },
  {
   "cell_type": "code",
   "execution_count": 580,
   "metadata": {},
   "outputs": [
    {
     "data": {
      "image/png": "[encoded data removed]",
      "text/plain": [
       "<Figure size 1152x1080 with 1 Axes>"
      ]
     },
     "metadata": {},
     "output_type": "display_data"
    }
   ],
   "source": [
    "feat_importances = pd.Series(clf_gb.feature_importances_, index=X_train.columns)\n",
    "feat_importances = feat_importances.nlargest(50)\n",
    "plt.figure(figsize=(16,15))\n",
    "feat_importances.plot(kind='barh')\n",
    "plt.gca().invert_yaxis()\n",
    "plt.show()"
   ]
  },
  {
   "cell_type": "code",
   "execution_count": 581,
   "metadata": {},
   "outputs": [
    {
     "name": "stdout",
     "output_type": "stream",
     "text": [
      "Index(['00004359', '00003661', '00002501', '00004244', '00004582', '00002756',\n",
      "       '00000879', '00003772', '00004759', '00002186', '00001448', '00004435',\n",
      "       '00002326', '00000009', '00001557'],\n",
      "      dtype='object')\n"
     ]
    }
   ],
   "source": [
    "top_features = pd.Series(clf_gb.feature_importances_, index=X_train.columns).nlargest(15).index\n",
    "print(top_features)"
   ]
  },
  {
   "cell_type": "code",
   "execution_count": 582,
   "metadata": {},
   "outputs": [
    {
     "data": {
      "image/png": "[encoded data removed]",
      "text/plain": [
       "<Figure size 1152x1152 with 2 Axes>"
      ]
     },
     "metadata": {},
     "output_type": "display_data"
    }
   ],
   "source": [
    "df_plot = pd.DataFrame(X_train, columns = top_features)\n",
    "corr = df_plot.corr()\n",
    "\n",
    "mask = np.zeros_like(corr, dtype=np.bool)\n",
    "mask[np.triu_indices_from(mask)] = True\n",
    "f, ax = plt.subplots(figsize=(16, 16))\n",
    "cmap = sns.diverging_palette(220, 10, as_cmap=True)\n",
    "sns.heatmap(corr, mask=mask, cmap=cmap, vmax=.3, center=0,\n",
    "            square=True, linewidths=.5, cbar_kws={\"shrink\": .5})\n",
    "plt.title(\"Correlation HeatMap\", fontsize=15)\n",
    "plt.show()"
   ]
  },
  {
   "cell_type": "markdown",
   "metadata": {},
   "source": [
    "## 3. Data Modeling"
   ]
  },
  {
   "cell_type": "markdown",
   "metadata": {},
   "source": [
    "### LightGBM model"
   ]
  },
  {
   "cell_type": "code",
   "execution_count": 583,
   "metadata": {},
   "outputs": [],
   "source": [
    "dev_X, val_X, dev_y, val_y = train_test_split(X_train, y_train, test_size = 0.2, random_state = 42)"
   ]
  },
  {
   "cell_type": "code",
   "execution_count": 584,
   "metadata": {},
   "outputs": [],
   "source": [
    "lgb_train = lgb.Dataset(dev_X, dev_y, free_raw_data=False)\n",
    "lgb_eval = lgb.Dataset(val_X, val_y, reference=lgb_train, free_raw_data=False)"
   ]
  },
  {
   "cell_type": "code",
   "execution_count": 585,
   "metadata": {},
   "outputs": [],
   "source": [
    "params = {\n",
    "    'boosting_type': 'gbdt',\n",
    "    'objective': 'regression',\n",
    "    'metric': 'rmse',\n",
    "    'num_leaves': 40,\n",
    "    'learning_rate': 0.005,\n",
    "    'feature_fraction': 0.5,\n",
    "    'bagging_fraction': 0.7,\n",
    "    'bagging_freq': 5,\n",
    "    'verbose': -1\n",
    "}"
   ]
  },
  {
   "cell_type": "code",
   "execution_count": 586,
   "metadata": {},
   "outputs": [
    {
     "name": "stdout",
     "output_type": "stream",
     "text": [
      "Training until validation scores don't improve for 100 rounds.\n",
      "[50]\tvalid_0's rmse: 1.61662\n",
      "[100]\tvalid_0's rmse: 1.55787\n",
      "[150]\tvalid_0's rmse: 1.5133\n",
      "[200]\tvalid_0's rmse: 1.48327\n",
      "[250]\tvalid_0's rmse: 1.45955\n",
      "[300]\tvalid_0's rmse: 1.44187\n",
      "[350]\tvalid_0's rmse: 1.42928\n",
      "[400]\tvalid_0's rmse: 1.42081\n",
      "[450]\tvalid_0's rmse: 1.41474\n",
      "[500]\tvalid_0's rmse: 1.41134\n",
      "[550]\tvalid_0's rmse: 1.40878\n",
      "[600]\tvalid_0's rmse: 1.40672\n",
      "[650]\tvalid_0's rmse: 1.40604\n",
      "[700]\tvalid_0's rmse: 1.40586\n",
      "[750]\tvalid_0's rmse: 1.40596\n",
      "[800]\tvalid_0's rmse: 1.406\n",
      "[850]\tvalid_0's rmse: 1.40564\n",
      "[900]\tvalid_0's rmse: 1.40613\n",
      "Early stopping, best iteration is:\n",
      "[839]\tvalid_0's rmse: 1.40549\n"
     ]
    }
   ],
   "source": [
    "gbm = lgb.train(params, lgb_train, 5000, \n",
    "                      valid_sets=[lgb_eval], \n",
    "                      early_stopping_rounds=100, \n",
    "                      verbose_eval=50, \n",
    "                      evals_result=evals_result)\n"
   ]
  },
  {
   "cell_type": "code",
   "execution_count": 587,
   "metadata": {},
   "outputs": [
    {
     "name": "stdout",
     "output_type": "stream",
     "text": [
      "The rmse of prediction is: 1.4054949060060236\n"
     ]
    }
   ],
   "source": [
    "y_pred = gbm.predict(val_X, num_iteration=gbm.best_iteration)\n",
    "\n",
    "print('The rmse of prediction is:', mean_squared_error(val_y, y_pred) ** 0.5)"
   ]
  },
  {
   "cell_type": "code",
   "execution_count": 588,
   "metadata": {},
   "outputs": [
    {
     "name": "stdout",
     "output_type": "stream",
     "text": [
      "Features Importance...\n",
      "       feature      gain  split\n",
      "4131  00004359  5.974588    641\n",
      "4021  00004244  4.765295    571\n",
      "2378  00002501  4.287443    662\n",
      "3662  00003867  1.815586    210\n",
      "3467  00003661  1.812327    344\n",
      "3223  00003398  1.499174    374\n",
      "8     00000009  1.441150    293\n",
      "1459  00001531  1.432299    383\n",
      "2616  00002756  1.360752    348\n",
      "4186  00004415  1.241639    285\n",
      "4344  00004582  1.174183    327\n",
      "1484  00001557  1.099443    321\n",
      "3572  00003772  0.965649    251\n",
      "3471  00003665  0.935102    277\n",
      "2056  00002159  0.883247     86\n"
     ]
    }
   ],
   "source": [
    "print(\"Features Importance...\")\n",
    "gain = model.feature_importance('gain')\n",
    "featureimp = pd.DataFrame({'feature':model.feature_name(), \n",
    "                   'split':model.feature_importance('split'), \n",
    "                   'gain':100 * gain / gain.sum()}).sort_values('gain', ascending=False)\n",
    "print(featureimp[:15])"
   ]
  },
  {
   "cell_type": "code",
   "execution_count": 589,
   "metadata": {
    "scrolled": true
   },
   "outputs": [
    {
     "name": "stdout",
     "output_type": "stream",
     "text": [
      "          ID        target\n",
      "0  000137c73  1.890963e+06\n",
      "1  00021489f  1.784841e+06\n",
      "2  0004d7953  2.605519e+06\n",
      "3  00056a333  5.428303e+06\n",
      "4  00056d8eb  1.988727e+06\n"
     ]
    }
   ],
   "source": [
    "sub = pd.read_csv('../Santander/sample_submission.csv')\n",
    "sub[\"target\"] = pred_test\n",
    "print(sub.head())\n",
    "sub.to_csv('sub_lgb.csv', index=False)"
   ]
  },
  {
   "cell_type": "code",
   "execution_count": null,
   "metadata": {},
   "outputs": [],
   "source": []
  },
  {
   "cell_type": "markdown",
   "metadata": {},
   "source": [
    "### Ridge Regression Model"
   ]
  },
  {
   "cell_type": "code",
   "execution_count": 590,
   "metadata": {},
   "outputs": [
    {
     "data": {
      "text/plain": [
       "Ridge(alpha=0.1, copy_X=True, fit_intercept=True, max_iter=None,\n",
       "   normalize=True, random_state=None, solver='auto', tol=0.001)"
      ]
     },
     "execution_count": 590,
     "metadata": {},
     "output_type": "execute_result"
    }
   ],
   "source": [
    "from sklearn.linear_model import Ridge\n",
    "from sklearn import metrics\n",
    "\n",
    "ridgereg = Ridge(alpha=0.1, normalize=True)\n",
    "\n",
    "ridgereg.fit(dev_X, dev_y)"
   ]
  },
  {
   "cell_type": "code",
   "execution_count": 591,
   "metadata": {},
   "outputs": [
    {
     "name": "stdout",
     "output_type": "stream",
     "text": [
      "25.700846132454604\n"
     ]
    }
   ],
   "source": [
    "y_pred = ridgereg.predict(val_X)\n",
    "print(np.sqrt(metrics.mean_squared_error(val_y, y_pred))**0.5)"
   ]
  },
  {
   "cell_type": "code",
   "execution_count": 592,
   "metadata": {},
   "outputs": [
    {
     "name": "stdout",
     "output_type": "stream",
     "text": [
      "23.00927678596524\n"
     ]
    }
   ],
   "source": [
    "ridgereg = Ridge(alpha=0.5, normalize=True)\n",
    "ridgereg.fit(dev_X, dev_y)\n",
    "y_pred = ridgereg.predict(val_X)\n",
    "print(np.sqrt(metrics.mean_squared_error(val_y, y_pred))**0.5)"
   ]
  },
  {
   "cell_type": "code",
   "execution_count": 593,
   "metadata": {},
   "outputs": [
    {
     "data": {
      "text/html": [
       "[('00004359', 5.242086484221599e-09), ('00003661', -9.169163873868349e-08), ('00002501', 1.0489799495159685e-08), ('00004244', 2.289522503125296e-08), ('00004582', 6.757001896898436e-09), ('00002756', -1.4004319499547426e-08), ('00000879', 3.7416760618682524e-09), ('00003772', -6.210945276189355e-08), ('00004759', 3.955529893077942e-09), ('00002186', 1.2481330333982593e-09), ('00001448', -9.988100303569169e-11), ('00004435', 5.046672849396235e-05), ('00002326', 3.1479080637116555e-09), ('00000009', 1.1363031441345853e-10), ('00001557', 8.800011586411693e-10)]"
      ],
      "text/plain": [
       "[('00004359', 5.242086484221599e-09),\n",
       " ('00003661', -9.169163873868349e-08),\n",
       " ('00002501', 1.0489799495159685e-08),\n",
       " ('00004244', 2.289522503125296e-08),\n",
       " ('00004582', 6.757001896898436e-09),\n",
       " ('00002756', -1.4004319499547426e-08),\n",
       " ('00000879', 3.7416760618682524e-09),\n",
       " ('00003772', -6.210945276189355e-08),\n",
       " ('00004759', 3.955529893077942e-09),\n",
       " ('00002186', 1.2481330333982593e-09),\n",
       " ('00001448', -9.988100303569169e-11),\n",
       " ('00004435', 5.046672849396235e-05),\n",
       " ('00002326', 3.1479080637116555e-09),\n",
       " ('00000009', 1.1363031441345853e-10),\n",
       " ('00001557', 8.800011586411693e-10)]"
      ]
     },
     "execution_count": 593,
     "metadata": {},
     "output_type": "execute_result"
    }
   ],
   "source": [
    "list(zip(top_features, ridgereg.coef_))"
   ]
  },
  {
   "cell_type": "code",
   "execution_count": null,
   "metadata": {},
   "outputs": [],
   "source": []
  },
  {
   "cell_type": "code",
   "execution_count": null,
   "metadata": {},
   "outputs": [],
   "source": []
  },
  {
   "cell_type": "code",
   "execution_count": null,
   "metadata": {},
   "outputs": [],
   "source": []
  },
  {
   "cell_type": "code",
   "execution_count": null,
   "metadata": {},
   "outputs": [],
   "source": []
  },
  {
   "cell_type": "code",
   "execution_count": null,
   "metadata": {},
   "outputs": [],
   "source": []
  },
  {
   "cell_type": "code",
   "execution_count": null,
   "metadata": {},
   "outputs": [],
   "source": []
  },
  {
   "cell_type": "code",
   "execution_count": null,
   "metadata": {},
   "outputs": [],
   "source": []
  },
  {
   "cell_type": "code",
   "execution_count": null,
   "metadata": {},
   "outputs": [],
   "source": []
  },
  {
   "cell_type": "code",
   "execution_count": null,
   "metadata": {},
   "outputs": [],
   "source": []
  },
  {
   "cell_type": "code",
   "execution_count": null,
   "metadata": {},
   "outputs": [],
   "source": []
  },
  {
   "cell_type": "code",
   "execution_count": null,
   "metadata": {},
   "outputs": [],
   "source": []
  }
 ],
 "metadata": {
  "kernelspec": {
   "display_name": "Python 3",
   "language": "python",
   "name": "python3"
  },
  "language_info": {
   "codemirror_mode": {
    "name": "ipython",
    "version": 3
   },
   "file_extension": ".py",
   "mimetype": "text/x-python",
   "name": "python",
   "nbconvert_exporter": "python",
   "pygments_lexer": "ipython3",
   "version": "3.6.4"
  }
 },
 "nbformat": 4,
 "nbformat_minor": 2
}

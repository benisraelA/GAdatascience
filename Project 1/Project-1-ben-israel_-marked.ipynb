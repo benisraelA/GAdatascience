{
 "cells": [
  {
   "cell_type": "markdown",
   "metadata": {},
   "source": [
    "<img src=\"http://imgur.com/1ZcRyrc.png\" style=\"float: left; margin: 20px; height: 55px\">\n",
    "\n",
    "# Project 1: Python Coding Exercises\n",
    "\n",
    "_Authors: Joseph Nelson (DC) _\n",
    "\n",
    "---"
   ]
  },
  {
   "cell_type": "markdown",
   "metadata": {},
   "source": [
    "The following code challenges are drawn from common exercises used in technical interviews.\n",
    "\n",
    "Please note that there may be several ways to approach each challenge. If you get stuck, try mapping out your approach in pseudocode first. Finally, while solutions to problems like these may be found online, remember that if you copy/paste code that you can't explain, you'll be missing out on the point of the project. The only way to truly learn a new skill is through practice, trial, and error - we can only help you improve by understanding where you are having trouble."
   ]
  },
  {
   "cell_type": "markdown",
   "metadata": {},
   "source": [
    "### Challenge 1: Largest Palindrome\n",
    "A palindromic number reads the same both ways. For example, 1234321 is a palindrome. The largest palindrome made from the product of two two-digit numbers is 9009 = 91 × 99. Find the largest palindrome made from the product of two three-digit numbers. Afterward, write a brief explanation walking through your code's logic in markdown."
   ]
  },
  {
   "cell_type": "code",
   "execution_count": 81,
   "metadata": {},
   "outputs": [
    {
     "name": "stdout",
     "output_type": "stream",
     "text": [
      "906609\n"
     ]
    }
   ],
   "source": [
    "def is_palindrome(i):\n",
    "    return str(i) == str(i)[::-1]              #convert answer to str and check if str is a palindrome\n",
    "\n",
    "max_p = 0                                      #storage for maximum value\n",
    "\n",
    "for i in range(100, 999):                      #loop through each number to find i\n",
    "    for j in range(i+1, 999):                  #loop through each number to find j\n",
    "        p = i * j\n",
    "        if is_palindrome(p) and p > max_p:     #check if result is a palindrome and if it is greater than max_p\n",
    "            max_p = p                          #if it is, add to list\n",
    "\n",
    "print(max_p)\n",
    "\n",
    "## Concise.\n"
   ]
  },
  {
   "cell_type": "markdown",
   "metadata": {},
   "source": [
    "### Challenge 2: Summation of Primes\n",
    "The sum of the primes below 10 is 2 + 3 + 5 + 7 = 17. Find the sum of all the primes below 2,000. Afterward, write a brief explanation walking through your code's logic in markdown."
   ]
  },
  {
   "cell_type": "code",
   "execution_count": 192,
   "metadata": {},
   "outputs": [
    {
     "name": "stdout",
     "output_type": "stream",
     "text": [
      "277050\n"
     ]
    }
   ],
   "source": [
    "limit = 2000\n",
    "\n",
    "def prime(n):\n",
    "    for i in range(2, n):            #establish the function\n",
    "        if n%i == 0:                 #use modulo to identify prime \n",
    "            return False\n",
    "    return True\n",
    "\n",
    "sum = 0                      ## Do not use \"sum\" as a variable name: it's a default python function!.\n",
    "for i in range(2, (limit)):\n",
    "    if prime(i):                     #for number identified as prime based on above results\n",
    "        sum = sum + i                #add all results in loop    sum += 1 works too!\n",
    "        \n",
    "        \n",
    "print(sum)"
   ]
  },
  {
   "cell_type": "markdown",
   "metadata": {},
   "source": [
    "### Challenge 3: Multiples of 3 and 5\n",
    "If we list all of the natural numbers below 10 that are multiples of 3 or 5, we get 3, 5, 6, and 9. The sum of these multiples is 23. Find the sum of all the multiples of 3 and 5 below 1,000. Afterward, write a brief explanation walking through your code's logic in markdown."
   ]
  },
  {
   "cell_type": "code",
   "execution_count": 193,
   "metadata": {},
   "outputs": [
    {
     "name": "stdout",
     "output_type": "stream",
     "text": [
      "233168\n"
     ]
    }
   ],
   "source": [
    "sum = 0                                  #holder for value\n",
    "\n",
    "for i in range(1,1000):                  #determine range for loop\n",
    "     if i % 5 == 0 or i % 3 == 0:        #identify i using the modulus operate\n",
    "         sum = sum + i                   #add all results in loop\n",
    "        \n",
    "print(sum)\n",
    "\n",
    "# Good. Don't use \"sum\" as a variable!\n"
   ]
  },
  {
   "cell_type": "markdown",
   "metadata": {},
   "source": [
    "### Challenge 4: String Compressor\n",
    "Implement a method to perform basic string compression using the counts of repeated characters. (This is called run-length encoding.) For example, the string \"aabcccccaaa\" would become a2b1c5a3. If the “compressed” string would not become smaller than the original string, your method should return the original string. You can assume the string has only uppercase and lowercase letters (a–z). Specify whether your solution is case sensitive or case insensitive and what you would need to change to make it the other. Afterward, write a brief explanation walking through your code's logic in markdown."
   ]
  },
  {
   "cell_type": "code",
   "execution_count": 5,
   "metadata": {},
   "outputs": [
    {
     "name": "stdout",
     "output_type": "stream",
     "text": [
      "a2b1c5a3\n",
      "a4d3d4d5\n",
      "Aabccccca\n",
      "a2b1c5a3\n",
      "testoutput\n",
      "t1e1s1t1o1u1t1p1u1t15\n",
      "a3b1c1a4\n",
      "A2a1B6b2b1\n"
     ]
    }
   ],
   "source": [
    "def string_compressor(input_str):\n",
    "    comp_word = \"\"                              \n",
    "    \n",
    "    count = 1\n",
    "    for i in range(len(input_str)-1):\n",
    "        if input_str[i] == input_str[i+1]:         #check if the current character and next character are equal\n",
    "            count += 1                             #if yes, increase count\n",
    "        else:\n",
    "            comp_word += input_str[i] + str(count) #if not append character and count to string\n",
    "            count = 1\n",
    "    comp_word += input_str[i] + str(count)         #catch edge cases\n",
    "            \n",
    "    if len(comp_word) >= len(input_str):           #check if compressed string is longer than the original string\n",
    "        return input_str\n",
    "    else:\n",
    "        return comp_word\n",
    "\n",
    "print(string_compressor('aabcccccaaa'))\n",
    "print(string_compressor('a4d3d4d5'))\n",
    "print(string_compressor(\"Aabccccca\"))\n",
    "print(string_compressor('aabcccccaaa')) \n",
    "print(string_compressor('testoutput'))\n",
    "print(string_compressor('testoutputtttttttttttttt'))\n",
    "print(string_compressor('aaabcaaaa'))\n",
    "print(string_compressor('AAaBBBBBBbbc'))\n",
    "\n",
    "## Great and concise work."
   ]
  },
  {
   "cell_type": "markdown",
   "metadata": {},
   "source": [
    "### *BONUS* Challenge: FizzBuzz\n",
    "Write a program that prints all of the numbers from 1 to 100. For multiples of 3, instead of the number, print \"Fizz;\" for multiples of 5, print \"Buzz.\" For numbers that are multiples of both 3 and 5, print \"FizzBuzz.\" Afterward, write a brief explanation walking through your code's logic in markdown."
   ]
  },
  {
   "cell_type": "code",
   "execution_count": 6,
   "metadata": {},
   "outputs": [
    {
     "name": "stdout",
     "output_type": "stream",
     "text": [
      "1\n",
      "2\n",
      "Fizz\n",
      "4\n",
      "Buzz\n",
      "Fizz\n",
      "7\n",
      "8\n",
      "Fizz\n",
      "Buzz\n",
      "11\n",
      "Fizz\n",
      "13\n",
      "14\n",
      "FizzBuzz\n",
      "16\n",
      "17\n",
      "Fizz\n",
      "19\n",
      "Buzz\n",
      "Fizz\n",
      "22\n",
      "23\n",
      "Fizz\n",
      "Buzz\n",
      "26\n",
      "Fizz\n",
      "28\n",
      "29\n",
      "FizzBuzz\n",
      "31\n",
      "32\n",
      "Fizz\n",
      "34\n",
      "Buzz\n",
      "Fizz\n",
      "37\n",
      "38\n",
      "Fizz\n",
      "Buzz\n",
      "41\n",
      "Fizz\n",
      "43\n",
      "44\n",
      "FizzBuzz\n",
      "46\n",
      "47\n",
      "Fizz\n",
      "49\n",
      "Buzz\n",
      "Fizz\n",
      "52\n",
      "53\n",
      "Fizz\n",
      "Buzz\n",
      "56\n",
      "Fizz\n",
      "58\n",
      "59\n",
      "FizzBuzz\n",
      "61\n",
      "62\n",
      "Fizz\n",
      "64\n",
      "Buzz\n",
      "Fizz\n",
      "67\n",
      "68\n",
      "Fizz\n",
      "Buzz\n",
      "71\n",
      "Fizz\n",
      "73\n",
      "74\n",
      "FizzBuzz\n",
      "76\n",
      "77\n",
      "Fizz\n",
      "79\n",
      "Buzz\n",
      "Fizz\n",
      "82\n",
      "83\n",
      "Fizz\n",
      "Buzz\n",
      "86\n",
      "Fizz\n",
      "88\n",
      "89\n",
      "FizzBuzz\n",
      "91\n",
      "92\n",
      "Fizz\n",
      "94\n",
      "Buzz\n",
      "Fizz\n",
      "97\n",
      "98\n",
      "Fizz\n"
     ]
    }
   ],
   "source": [
    "for num in range(1,100):                     #establish range\n",
    "   if num % 3 == 0 and num % 5 == 0:     #identify numbers which are both divisible by 3 AND 5\n",
    "       print(\"FizzBuzz\")\n",
    "   elif num % 5 == 0:                        #identify numbers which are divisible by 5\n",
    "       print(\"Buzz\")\n",
    "   elif num % 3 == 0:                        #identify numbers which are divisible by 3\n",
    "       print(\"Fizz\")\n",
    "   else:\n",
    "       print(num)\n",
    "        \n",
    "        # Good."
   ]
  },
  {
   "cell_type": "markdown",
   "metadata": {},
   "source": [
    "## Comments\n",
    "\n",
    "Nothing much really... Good job. Just try not to name your variables after reserved words!\n",
    "\n",
    "## Score\n",
    "\n",
    "__3__"
   ]
  },
  {
   "cell_type": "code",
   "execution_count": null,
   "metadata": {},
   "outputs": [],
   "source": []
  },
  {
   "cell_type": "code",
   "execution_count": null,
   "metadata": {},
   "outputs": [],
   "source": []
  }
 ],
 "metadata": {
  "anaconda-cloud": {},
  "kernelspec": {
   "display_name": "Python 3",
   "language": "python",
   "name": "python3"
  },
  "language_info": {
   "codemirror_mode": {
    "name": "ipython",
    "version": 3
   },
   "file_extension": ".py",
   "mimetype": "text/x-python",
   "name": "python",
   "nbconvert_exporter": "python",
   "pygments_lexer": "ipython3",
   "version": "3.6.4"
  }
 },
 "nbformat": 4,
 "nbformat_minor": 2
}
